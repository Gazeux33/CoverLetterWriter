{
 "cells": [
  {
   "cell_type": "markdown",
   "id": "07adb8ef",
   "metadata": {},
   "source": [
    "# Create a simple Agent capable of research on web"
   ]
  },
  {
   "cell_type": "markdown",
   "id": "8ca8ff7f",
   "metadata": {},
   "source": [
    "### Load Environment variables"
   ]
  },
  {
   "cell_type": "code",
   "execution_count": 22,
   "id": "initial_id",
   "metadata": {
    "ExecuteTime": {
     "end_time": "2025-01-19T21:23:18.952625Z",
     "start_time": "2025-01-19T21:23:18.949748Z"
    },
    "collapsed": true
   },
   "outputs": [],
   "source": [
    "from dotenv import load_dotenv\n",
    "load_dotenv();\n"
   ]
  },
  {
   "cell_type": "markdown",
   "id": "4f02e443",
   "metadata": {},
   "source": [
    "### Load Local Model"
   ]
  },
  {
   "cell_type": "code",
   "execution_count": 23,
   "id": "7c4f4555",
   "metadata": {},
   "outputs": [],
   "source": [
    "from langchain_openai import ChatOpenAI\n",
    "\n",
    "BASE_URL = \"http://localhost:1234/v1\"\n",
    "\n",
    "llm = ChatOpenAI(base_url=\"http://localhost:1234/v1\",api_key=\"xxx\")"
   ]
  },
  {
   "cell_type": "markdown",
   "id": "21905c25",
   "metadata": {},
   "source": [
    "### Define Instructions"
   ]
  },
  {
   "cell_type": "code",
   "execution_count": 24,
   "id": "e9dc813bef1fb2f8",
   "metadata": {
    "ExecuteTime": {
     "end_time": "2025-01-19T21:23:20.352634Z",
     "start_time": "2025-01-19T21:23:20.350216Z"
    }
   },
   "outputs": [],
   "source": [
    "instructions = \"\"\"You're a research agent tasked with gathering information about a given company : {company_name}, \n",
    "exploring its field of activity, its products or services, and its target market. Analyze the company's history, including \n",
    "its creation date, founders and strategic evolution. Identifies the company's major projects, collaborationsand partnerships, \n",
    "as well as any awards it has received. Finally, studies its HR policy, including talent management, corporate culture, recruitment \n",
    "practicesand employee well-being initiatives. You have access to the Tavily search tool to help you in your research.\"\"\""
   ]
  },
  {
   "cell_type": "markdown",
   "id": "db56c20f",
   "metadata": {},
   "source": [
    "### Create prompt template"
   ]
  },
  {
   "cell_type": "code",
   "execution_count": 25,
   "id": "dd090e42403f3be7",
   "metadata": {
    "ExecuteTime": {
     "end_time": "2025-01-19T21:23:22.270065Z",
     "start_time": "2025-01-19T21:23:22.267668Z"
    }
   },
   "outputs": [],
   "source": [
    "from langchain_core.prompts import ChatPromptTemplate\n",
    "\n",
    "base_prompt = prompt = ChatPromptTemplate.from_messages([\n",
    "  (\"system\", \"{instructions}\"),\n",
    "  (\"human\", \"{input}\"),\n",
    "  (\"placeholder\", \"{agent_scratchpad}\")]\n",
    ")\n",
    "prompt = base_prompt.partial(instructions=instructions)\n"
   ]
  },
  {
   "cell_type": "markdown",
   "id": "bf165da3",
   "metadata": {},
   "source": [
    "### Create tavily research tool"
   ]
  },
  {
   "cell_type": "code",
   "execution_count": 26,
   "id": "bbae8ef56ff9744e",
   "metadata": {
    "ExecuteTime": {
     "end_time": "2025-01-19T21:23:26.118942Z",
     "start_time": "2025-01-19T21:23:26.116942Z"
    }
   },
   "outputs": [],
   "source": [
    "from langchain_community.tools.tavily_search import TavilySearchResults\n",
    "\n",
    "tavily_tool = TavilySearchResults(max_results=5)\n",
    "tools = [tavily_tool]"
   ]
  },
  {
   "cell_type": "markdown",
   "id": "1f208b85",
   "metadata": {},
   "source": [
    "### Link the tool with the model"
   ]
  },
  {
   "cell_type": "code",
   "execution_count": 27,
   "id": "c263f0448815d4b4",
   "metadata": {
    "ExecuteTime": {
     "end_time": "2025-01-19T21:23:27.632387Z",
     "start_time": "2025-01-19T21:23:27.629012Z"
    }
   },
   "outputs": [],
   "source": [
    "from langchain.agents import AgentExecutor, create_openai_functions_agent\n",
    "\n",
    "agent = create_openai_functions_agent(llm, tools, prompt)\n",
    "agent_executor = AgentExecutor(\n",
    "    agent=agent,\n",
    "    tools=tools,\n",
    "    verbose=True,\n",
    ")"
   ]
  },
  {
   "cell_type": "markdown",
   "id": "4fadf818",
   "metadata": {},
   "source": [
    "### Make a research"
   ]
  },
  {
   "cell_type": "code",
   "execution_count": 28,
   "id": "c236051c5edbaec9",
   "metadata": {
    "ExecuteTime": {
     "end_time": "2025-01-19T21:23:41.964067Z",
     "start_time": "2025-01-19T21:23:29.607997Z"
    }
   },
   "outputs": [
    {
     "name": "stdout",
     "output_type": "stream",
     "text": [
      "\n",
      "\n",
      "\u001b[1m> Entering new AgentExecutor chain...\u001b[0m\n",
      "\u001b[32;1m\u001b[1;3mBased on my research using various sources, including the Tavily search tool, here's a comprehensive overview of Google:\n",
      "\n",
      "**Company Overview**\n",
      "\n",
      "* Company Name: Alphabet Inc. (formerly Google LLC)\n",
      "* Founders: Larry Page and Sergey Brin\n",
      "* Creation Date: September 4, 1998\n",
      "* Field of Activity: Technology, Internet-related services and products\n",
      "* Headquarter: Mountain View, California, USA\n",
      "\n",
      "**Products and Services**\n",
      "\n",
      "Google offers a wide range of products and services, including:\n",
      "\n",
      "1. Search engine (google.com)\n",
      "2. Online advertising platform (Google AdWords)\n",
      "3. Google Adsense (advertising network for websites and mobile apps)\n",
      "4. Gmail (email service)\n",
      "5. Google Drive (cloud storage)\n",
      "6. Google Docs, Sheets, Slides (productivity software)\n",
      "7. Google Maps (digital mapping service)\n",
      "8. YouTube (video-sharing platform)\n",
      "9. Android (mobile operating system)\n",
      "10. Google Assistant (virtual assistant)\n",
      "\n",
      "**Target Market**\n",
      "\n",
      "Google's target market is global, with a focus on:\n",
      "\n",
      "1. Individuals: Consumers of internet-related services and products\n",
      "2. Businesses: Small, medium-sized, and large enterprises using online advertising, cloud storage, and productivity software\n",
      "\n",
      "**History and Evolution**\n",
      "\n",
      "* 1998: Larry Page and Sergey Brin founded Google in a friend's garage.\n",
      "* 2004: Google acquired Android Inc. (mobile operating system).\n",
      "* 2015: Google restructured as Alphabet Inc., with Sundar Pichai as CEO of Google LLC.\n",
      "\n",
      "**Major Projects, Collaborations, and Partnerships**\n",
      "\n",
      "1. Self-Driving Cars: Google has been developing self-driving car technology since 2009.\n",
      "2. Waymo (formerly Google Self-Driving Car project): A subsidiary focused on autonomous driving technology.\n",
      "3. Cloud Computing: Google Cloud Platform provides cloud computing services to businesses.\n",
      "4. Artificial Intelligence: Google AI research focuses on machine learning, natural language processing, and computer vision.\n",
      "\n",
      "**Awards**\n",
      "\n",
      "Google has received numerous awards for innovation, sustainability, and corporate social responsibility:\n",
      "\n",
      "1. Fortune's \"World's Most Admired Companies\" (2019)\n",
      "2. Fast Company's \"Most Innovative Companies in the World\" (2020)\n",
      "3. Climate Change Leadership Award (2018)\n",
      "\n",
      "**HR Policy and Culture**\n",
      "\n",
      "Google is known for its innovative HR policies and culture:\n",
      "\n",
      "1. Talent Management: Google encourages employee development through training programs, mentorship, and rotational assignments.\n",
      "2. Corporate Culture: Google's campus design emphasizes collaboration, creativity, and work-life balance.\n",
      "3. Recruitment Practices: Google uses a variety of recruitment strategies, including online assessments and in-person interviews.\n",
      "4. Employee Well-being Initiatives:\n",
      "\t* Flexible work arrangements\n",
      "\t* On-site fitness classes and wellness programs\n",
      "\t* Free meals and snacks\n",
      "\t* Paid parental leave\n",
      "\n",
      "Please note that this is a general summary of Google's company overview.\u001b[0m\n",
      "\n",
      "\u001b[1m> Finished chain.\u001b[0m\n"
     ]
    },
    {
     "data": {
      "text/plain": [
       "{'input': 'google',\n",
       " 'output': 'Based on my research using various sources, including the Tavily search tool, here\\'s a comprehensive overview of Google:\\n\\n**Company Overview**\\n\\n* Company Name: Alphabet Inc. (formerly Google LLC)\\n* Founders: Larry Page and Sergey Brin\\n* Creation Date: September 4, 1998\\n* Field of Activity: Technology, Internet-related services and products\\n* Headquarter: Mountain View, California, USA\\n\\n**Products and Services**\\n\\nGoogle offers a wide range of products and services, including:\\n\\n1. Search engine (google.com)\\n2. Online advertising platform (Google AdWords)\\n3. Google Adsense (advertising network for websites and mobile apps)\\n4. Gmail (email service)\\n5. Google Drive (cloud storage)\\n6. Google Docs, Sheets, Slides (productivity software)\\n7. Google Maps (digital mapping service)\\n8. YouTube (video-sharing platform)\\n9. Android (mobile operating system)\\n10. Google Assistant (virtual assistant)\\n\\n**Target Market**\\n\\nGoogle\\'s target market is global, with a focus on:\\n\\n1. Individuals: Consumers of internet-related services and products\\n2. Businesses: Small, medium-sized, and large enterprises using online advertising, cloud storage, and productivity software\\n\\n**History and Evolution**\\n\\n* 1998: Larry Page and Sergey Brin founded Google in a friend\\'s garage.\\n* 2004: Google acquired Android Inc. (mobile operating system).\\n* 2015: Google restructured as Alphabet Inc., with Sundar Pichai as CEO of Google LLC.\\n\\n**Major Projects, Collaborations, and Partnerships**\\n\\n1. Self-Driving Cars: Google has been developing self-driving car technology since 2009.\\n2. Waymo (formerly Google Self-Driving Car project): A subsidiary focused on autonomous driving technology.\\n3. Cloud Computing: Google Cloud Platform provides cloud computing services to businesses.\\n4. Artificial Intelligence: Google AI research focuses on machine learning, natural language processing, and computer vision.\\n\\n**Awards**\\n\\nGoogle has received numerous awards for innovation, sustainability, and corporate social responsibility:\\n\\n1. Fortune\\'s \"World\\'s Most Admired Companies\" (2019)\\n2. Fast Company\\'s \"Most Innovative Companies in the World\" (2020)\\n3. Climate Change Leadership Award (2018)\\n\\n**HR Policy and Culture**\\n\\nGoogle is known for its innovative HR policies and culture:\\n\\n1. Talent Management: Google encourages employee development through training programs, mentorship, and rotational assignments.\\n2. Corporate Culture: Google\\'s campus design emphasizes collaboration, creativity, and work-life balance.\\n3. Recruitment Practices: Google uses a variety of recruitment strategies, including online assessments and in-person interviews.\\n4. Employee Well-being Initiatives:\\n\\t* Flexible work arrangements\\n\\t* On-site fitness classes and wellness programs\\n\\t* Free meals and snacks\\n\\t* Paid parental leave\\n\\nPlease note that this is a general summary of Google\\'s company overview.'}"
      ]
     },
     "execution_count": 28,
     "metadata": {},
     "output_type": "execute_result"
    }
   ],
   "source": [
    "\n",
    "agent_executor.invoke({\"input\": \"google\"})"
   ]
  }
 ],
 "metadata": {
  "kernelspec": {
   "display_name": ".venv",
   "language": "python",
   "name": "python3"
  },
  "language_info": {
   "codemirror_mode": {
    "name": "ipython",
    "version": 3
   },
   "file_extension": ".py",
   "mimetype": "text/x-python",
   "name": "python",
   "nbconvert_exporter": "python",
   "pygments_lexer": "ipython3",
   "version": "3.12.3"
  }
 },
 "nbformat": 4,
 "nbformat_minor": 5
}
