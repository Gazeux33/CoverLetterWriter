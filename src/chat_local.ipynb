{
 "cells": [
  {
   "cell_type": "markdown",
   "id": "b5423434",
   "metadata": {},
   "source": [
    "# Buil a simple chat with a Local model on LM Studio"
   ]
  },
  {
   "cell_type": "markdown",
   "id": "307efa7e",
   "metadata": {},
   "source": [
    "### Load the model"
   ]
  },
  {
   "cell_type": "code",
   "execution_count": 7,
   "id": "initial_id",
   "metadata": {
    "ExecuteTime": {
     "end_time": "2025-01-19T15:23:55.089241Z",
     "start_time": "2025-01-19T15:23:55.041458Z"
    },
    "collapsed": true
   },
   "outputs": [],
   "source": [
    "from langchain_openai import ChatOpenAI\n",
    "\n",
    "BASE_URL = \"http://localhost:1234/v1\"\n",
    "MODEL_NAME = \"deepseek-r1-distill-llama-8b\"\n",
    "\n",
    "llm = ChatOpenAI(base_url=\"http://localhost:1234/v1\",api_key=\"xxx\",model_name=MODEL_NAME)"
   ]
  },
  {
   "cell_type": "markdown",
   "id": "efc4167b",
   "metadata": {},
   "source": [
    "### Create the prompt template"
   ]
  },
  {
   "cell_type": "code",
   "execution_count": null,
   "id": "3076338ece251062",
   "metadata": {
    "ExecuteTime": {
     "end_time": "2025-01-19T15:23:55.095260Z",
     "start_time": "2025-01-19T15:23:55.092615Z"
    }
   },
   "outputs": [],
   "source": [
    "from langchain_core.prompts import ChatPromptTemplate\n",
    "from langchain_core.output_parsers import StrOutputParser\n",
    "\n",
    "# define the prompt template\n",
    "prompt_template = ChatPromptTemplate([\n",
    "    (\"human\", \"{question}\"),\n",
    "])\n",
    "\n",
    "# create the chain\n",
    "chain = prompt_template | llm | StrOutputParser()"
   ]
  },
  {
   "cell_type": "markdown",
   "id": "7601316f",
   "metadata": {},
   "source": [
    "### Call function"
   ]
  },
  {
   "cell_type": "code",
   "execution_count": 14,
   "id": "34f9233256110ca6",
   "metadata": {
    "ExecuteTime": {
     "end_time": "2025-01-19T15:23:55.140090Z",
     "start_time": "2025-01-19T15:23:55.137981Z"
    }
   },
   "outputs": [],
   "source": [
    "def stream(question):\n",
    "    for s in chain.stream(question):\n",
    "        print(s,end=\"\")"
   ]
  },
  {
   "cell_type": "markdown",
   "id": "d2e5eeb0",
   "metadata": {},
   "source": [
    "### Call the model"
   ]
  },
  {
   "cell_type": "code",
   "execution_count": 16,
   "id": "becd4612dff26496",
   "metadata": {
    "ExecuteTime": {
     "end_time": "2025-01-19T15:23:58.513173Z",
     "start_time": "2025-01-19T15:23:55.183309Z"
    }
   },
   "outputs": [
    {
     "name": "stdout",
     "output_type": "stream",
     "text": [
      "<think>\n",
      "\n",
      "</think>\n",
      "\n",
      "Hello, Bob! How can I assist you today? 😊"
     ]
    }
   ],
   "source": [
    "stream(\"Hello i'm Bob\")"
   ]
  }
 ],
 "metadata": {
  "kernelspec": {
   "display_name": ".venv",
   "language": "python",
   "name": "python3"
  },
  "language_info": {
   "codemirror_mode": {
    "name": "ipython",
    "version": 3
   },
   "file_extension": ".py",
   "mimetype": "text/x-python",
   "name": "python",
   "nbconvert_exporter": "python",
   "pygments_lexer": "ipython3",
   "version": "3.12.3"
  }
 },
 "nbformat": 4,
 "nbformat_minor": 5
}
