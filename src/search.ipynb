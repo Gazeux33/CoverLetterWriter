{
 "cells": [
  {
   "cell_type": "markdown",
   "id": "07adb8ef",
   "metadata": {},
   "source": [
    "# Create a simple Agent capable of research on web"
   ]
  },
  {
   "cell_type": "markdown",
   "id": "8ca8ff7f",
   "metadata": {},
   "source": [
    "### Load Environment variables"
   ]
  },
  {
   "cell_type": "code",
   "execution_count": 2,
   "id": "initial_id",
   "metadata": {
    "ExecuteTime": {
     "end_time": "2025-01-19T21:23:18.952625Z",
     "start_time": "2025-01-19T21:23:18.949748Z"
    },
    "collapsed": true
   },
   "outputs": [],
   "source": [
    "from dotenv import load_dotenv\n",
    "load_dotenv();\n"
   ]
  },
  {
   "cell_type": "markdown",
   "id": "4f02e443",
   "metadata": {},
   "source": [
    "### Load Local Model"
   ]
  },
  {
   "cell_type": "code",
   "execution_count": 3,
   "id": "7c4f4555",
   "metadata": {},
   "outputs": [],
   "source": [
    "from langchain_openai import ChatOpenAI\n",
    "\n",
    "BASE_URL = \"http://localhost:1234/v1\"\n",
    "MODEL_NAME = \"deepseek-r1-distill-llama-8b\"\n",
    "\n",
    "llm = ChatOpenAI(base_url=\"http://localhost:1234/v1\",api_key=\"xxx\",model_name=MODEL_NAME)"
   ]
  },
  {
   "cell_type": "markdown",
   "id": "21905c25",
   "metadata": {},
   "source": [
    "### Define Instructions"
   ]
  },
  {
   "cell_type": "code",
   "execution_count": 4,
   "id": "e9dc813bef1fb2f8",
   "metadata": {
    "ExecuteTime": {
     "end_time": "2025-01-19T21:23:20.352634Z",
     "start_time": "2025-01-19T21:23:20.350216Z"
    }
   },
   "outputs": [],
   "source": [
    "instructions = \"\"\"You're a research agent tasked with gathering information about a given company : {company_name}, \n",
    "exploring its field of activity, its products or services, and its target market. Analyze the company's history, including \n",
    "its creation date, founders and strategic evolution. Identifies the company's major projects, collaborationsand partnerships, \n",
    "as well as any awards it has received. Finally, studies its HR policy, including talent management, corporate culture, recruitment \n",
    "practicesand employee well-being initiatives. You have access to the Tavily search tool to help you in your research.\"\"\""
   ]
  },
  {
   "cell_type": "markdown",
   "id": "db56c20f",
   "metadata": {},
   "source": [
    "### Create prompt template"
   ]
  },
  {
   "cell_type": "code",
   "execution_count": 5,
   "id": "dd090e42403f3be7",
   "metadata": {
    "ExecuteTime": {
     "end_time": "2025-01-19T21:23:22.270065Z",
     "start_time": "2025-01-19T21:23:22.267668Z"
    }
   },
   "outputs": [],
   "source": [
    "from langchain_core.prompts import ChatPromptTemplate\n",
    "\n",
    "base_prompt = prompt = ChatPromptTemplate.from_messages([\n",
    "  (\"system\", \"{instructions}\"),\n",
    "  (\"placeholder\", \"{chat_history}\"),\n",
    "  (\"human\", \"{input}\"),\n",
    "  (\"placeholder\", \"{agent_scratchpad}\")]\n",
    ")\n",
    "prompt = base_prompt.partial(instructions=instructions)\n"
   ]
  },
  {
   "cell_type": "markdown",
   "id": "bf165da3",
   "metadata": {},
   "source": [
    "### Create tavily research tool"
   ]
  },
  {
   "cell_type": "code",
   "execution_count": null,
   "id": "bbae8ef56ff9744e",
   "metadata": {
    "ExecuteTime": {
     "end_time": "2025-01-19T21:23:26.118942Z",
     "start_time": "2025-01-19T21:23:26.116942Z"
    }
   },
   "outputs": [],
   "source": [
    "from langchain_community.tools.tavily_search import TavilySearchResults\n",
    "\n",
    "tavily_tool = TavilySearchResults(max_results=5)\n",
    "tools = [tavily_tool]"
   ]
  },
  {
   "cell_type": "markdown",
   "id": "1f208b85",
   "metadata": {},
   "source": [
    "### Link the tool with the model"
   ]
  },
  {
   "cell_type": "code",
   "execution_count": 7,
   "id": "c263f0448815d4b4",
   "metadata": {
    "ExecuteTime": {
     "end_time": "2025-01-19T21:23:27.632387Z",
     "start_time": "2025-01-19T21:23:27.629012Z"
    }
   },
   "outputs": [],
   "source": [
    "from langchain.agents import AgentExecutor, create_openai_functions_agent\n",
    "\n",
    "agent = create_openai_functions_agent(llm, tools, prompt)\n",
    "agent_executor = AgentExecutor(\n",
    "    agent=agent,\n",
    "    tools=tools,\n",
    "    verbose=True,\n",
    ")"
   ]
  },
  {
   "cell_type": "markdown",
   "id": "4fadf818",
   "metadata": {},
   "source": [
    "### Make a research"
   ]
  },
  {
   "cell_type": "code",
   "execution_count": 8,
   "id": "c236051c5edbaec9",
   "metadata": {
    "ExecuteTime": {
     "end_time": "2025-01-19T21:23:41.964067Z",
     "start_time": "2025-01-19T21:23:29.607997Z"
    }
   },
   "outputs": [
    {
     "name": "stdout",
     "output_type": "stream",
     "text": [
      "\n",
      "\n",
      "\u001b[1m> Entering new AgentExecutor chain...\u001b[0m\n",
      "\u001b[32;1m\u001b[1;3m<think>\n",
      "Okay, so I need to gather information about a company using the Tavily search tool. The user has given me an example with \"Google\" as the company. Let me go through their process step by step and see how they approached it.\n",
      "\n",
      "First, they started with a broad search to get an overview. They used terms like \"Google company profile,\" which makes sense because that's a general starting point. They also included \"founders of Google,\" which is important for understanding the company's inception. Then they looked into specific areas: products and services, history, major projects, collaborations, awards, HR policies, and financials.\n",
      "\n",
      "When I do this for another company, say, Apple or Tesla, I should follow a similar structure but tailor each section to be relevant to that company. For instance, if I were researching Tesla, the major projects would likely include their electric vehicles like the Model S and Cybertruck, as well as their energy storage solutions and solar products.\n",
      "\n",
      "I also noticed they used specific search terms for each category. So for history, they included \"history of Google\" and \"evolution of Google.\" For major projects, they mentioned \"key projects,\" which is a good term to find significant initiatives.\n",
      "\n",
      "Another thing I should consider is the company's strategic evolution. Maybe looking into how the company has expanded its market presence or adapted to new technologies would be useful. For example, when researching Apple, their entry into wearables with the Apple Watch or their services like Apple Music are major expansions beyond just hardware.\n",
      "\n",
      "I wonder about the awards part. I should search for any notable recognitions the company has received, such as \"Google awarded for...\" or \"Tesla's innovations in AI.\" This could highlight their achievements and market position.\n",
      "\n",
      "HR policies were another section. The example used terms like \"talent management strategies,\" which is key for understanding how they recruit and retain talent. Maybe looking into employee well-being initiatives would show the company culture, like Google’s famous wellness programs or Tesla's health-focused benefits.\n",
      "\n",
      "I also think about financial aspects. Terms like \"financial overview of Tesla\" could provide insights into their revenue models, partnerships, and market performance. This is important for understanding their business stability and growth.\n",
      "\n",
      "I should make sure each step is followed methodically to avoid missing critical information. For example, if I'm researching a tech company, major projects might include product launches, partnerships with other tech firms, or advancements in technology like AI or machine learning.\n",
      "\n",
      "Wait, but how do I handle the company's creation date? Maybe searching for \"founding date of Tesla\" would give me that information directly from reliable sources. Similarly, founders' backgrounds can be found by searching terms like \"founders of Tesla and their backgrounds.\"\n",
      "\n",
      "I also need to think about potential competitors and market position. Understanding where Tesla stands in the electric vehicle market compared to others like Ford or BYD could provide context on their strategic moves.\n",
      "\n",
      "Another thing is employee well-being. Maybe looking for terms like \"Tesla employee benefits\" or \"Google wellness programs\" would give insights into their HR initiatives. This ties back to company culture and attracts top talent, which is crucial for growth.\n",
      "\n",
      "I should also consider the impact of the company beyond just products. For example, Google's influence in AI and its contributions to open-source projects, while Tesla's role in renewable energy with SolarCity or Powerwall systems.\n",
      "\n",
      "Finally, synthesizing all this information into a coherent report would be essential. Organizing each section clearly so that the research is not only comprehensive but also easy to understand.\n",
      "\n",
      "I think I've covered most aspects. Now, let me outline the steps based on this thought process:\n",
      "1. Overview of the company using broad terms.\n",
      "2. Founders and creation date.\n",
      "3. Products/services and history.\n",
      "4. Major projects and collaborations.\n",
      "5. Awards and recognitions.\n",
      "6. HR policies, including talent management and culture.\n",
      "7. Financial overview and market position.\n",
      "\n",
      "Each step will involve specific search terms to extract relevant information, ensuring a thorough analysis of the company.\n",
      "</think>\n",
      "\n",
      "To gather comprehensive information about Tesla using Tavily, follow this structured approach:\n",
      "\n",
      "1. **Overview**: Begin with broad searches like \"Tesla company profile\" and \"overview of Tesla\" to understand its general position in the market.\n",
      "\n",
      "2. **Founders and Creation Date**: Use terms such as \"founders of Tesla\" and \"founding date of Tesla\" to trace its inception and leadership.\n",
      "\n",
      "3. **Products/Services and History**: Investigate with searches like \"Tesla products\" and \"history of Tesla\" to explore its offerings and evolution.\n",
      "\n",
      "4. **Major Projects and Collaborations**: Look for terms like \"major projects of Tesla\" and \"collaborations of Tesla\" to identify key initiatives and partnerships, such as electric vehicles (Model S, Cybertruck) and energy storage solutions.\n",
      "\n",
      "5. **Awards and Recognitions**: Use phrases like \"awards won by Tesla\" and \"Tesla's innovations in AI\" to highlight achievements and market impact.\n",
      "\n",
      "6. **HR Policies**: Search for \"Tesla talent management strategies\" and \"Tesla employee benefits\" to understand recruitment practices, employee well-being initiatives, and company culture.\n",
      "\n",
      "7. **Financial Overview and Market Position**: Utilize terms like \"financial overview of Tesla\" and \"Tesla's market position\" to analyze revenue models, partnerships, and competitive standing.\n",
      "\n",
      "By systematically applying these search terms and organizing the findings, you can create a coherent report that provides a deep insights into Tesla's operations and impact.\u001b[0m\n",
      "\n",
      "\u001b[1m> Finished chain.\u001b[0m\n"
     ]
    },
    {
     "data": {
      "text/plain": [
       "{'input': 'google',\n",
       " 'output': '<think>\\nOkay, so I need to gather information about a company using the Tavily search tool. The user has given me an example with \"Google\" as the company. Let me go through their process step by step and see how they approached it.\\n\\nFirst, they started with a broad search to get an overview. They used terms like \"Google company profile,\" which makes sense because that\\'s a general starting point. They also included \"founders of Google,\" which is important for understanding the company\\'s inception. Then they looked into specific areas: products and services, history, major projects, collaborations, awards, HR policies, and financials.\\n\\nWhen I do this for another company, say, Apple or Tesla, I should follow a similar structure but tailor each section to be relevant to that company. For instance, if I were researching Tesla, the major projects would likely include their electric vehicles like the Model S and Cybertruck, as well as their energy storage solutions and solar products.\\n\\nI also noticed they used specific search terms for each category. So for history, they included \"history of Google\" and \"evolution of Google.\" For major projects, they mentioned \"key projects,\" which is a good term to find significant initiatives.\\n\\nAnother thing I should consider is the company\\'s strategic evolution. Maybe looking into how the company has expanded its market presence or adapted to new technologies would be useful. For example, when researching Apple, their entry into wearables with the Apple Watch or their services like Apple Music are major expansions beyond just hardware.\\n\\nI wonder about the awards part. I should search for any notable recognitions the company has received, such as \"Google awarded for...\" or \"Tesla\\'s innovations in AI.\" This could highlight their achievements and market position.\\n\\nHR policies were another section. The example used terms like \"talent management strategies,\" which is key for understanding how they recruit and retain talent. Maybe looking into employee well-being initiatives would show the company culture, like Google’s famous wellness programs or Tesla\\'s health-focused benefits.\\n\\nI also think about financial aspects. Terms like \"financial overview of Tesla\" could provide insights into their revenue models, partnerships, and market performance. This is important for understanding their business stability and growth.\\n\\nI should make sure each step is followed methodically to avoid missing critical information. For example, if I\\'m researching a tech company, major projects might include product launches, partnerships with other tech firms, or advancements in technology like AI or machine learning.\\n\\nWait, but how do I handle the company\\'s creation date? Maybe searching for \"founding date of Tesla\" would give me that information directly from reliable sources. Similarly, founders\\' backgrounds can be found by searching terms like \"founders of Tesla and their backgrounds.\"\\n\\nI also need to think about potential competitors and market position. Understanding where Tesla stands in the electric vehicle market compared to others like Ford or BYD could provide context on their strategic moves.\\n\\nAnother thing is employee well-being. Maybe looking for terms like \"Tesla employee benefits\" or \"Google wellness programs\" would give insights into their HR initiatives. This ties back to company culture and attracts top talent, which is crucial for growth.\\n\\nI should also consider the impact of the company beyond just products. For example, Google\\'s influence in AI and its contributions to open-source projects, while Tesla\\'s role in renewable energy with SolarCity or Powerwall systems.\\n\\nFinally, synthesizing all this information into a coherent report would be essential. Organizing each section clearly so that the research is not only comprehensive but also easy to understand.\\n\\nI think I\\'ve covered most aspects. Now, let me outline the steps based on this thought process:\\n1. Overview of the company using broad terms.\\n2. Founders and creation date.\\n3. Products/services and history.\\n4. Major projects and collaborations.\\n5. Awards and recognitions.\\n6. HR policies, including talent management and culture.\\n7. Financial overview and market position.\\n\\nEach step will involve specific search terms to extract relevant information, ensuring a thorough analysis of the company.\\n</think>\\n\\nTo gather comprehensive information about Tesla using Tavily, follow this structured approach:\\n\\n1. **Overview**: Begin with broad searches like \"Tesla company profile\" and \"overview of Tesla\" to understand its general position in the market.\\n\\n2. **Founders and Creation Date**: Use terms such as \"founders of Tesla\" and \"founding date of Tesla\" to trace its inception and leadership.\\n\\n3. **Products/Services and History**: Investigate with searches like \"Tesla products\" and \"history of Tesla\" to explore its offerings and evolution.\\n\\n4. **Major Projects and Collaborations**: Look for terms like \"major projects of Tesla\" and \"collaborations of Tesla\" to identify key initiatives and partnerships, such as electric vehicles (Model S, Cybertruck) and energy storage solutions.\\n\\n5. **Awards and Recognitions**: Use phrases like \"awards won by Tesla\" and \"Tesla\\'s innovations in AI\" to highlight achievements and market impact.\\n\\n6. **HR Policies**: Search for \"Tesla talent management strategies\" and \"Tesla employee benefits\" to understand recruitment practices, employee well-being initiatives, and company culture.\\n\\n7. **Financial Overview and Market Position**: Utilize terms like \"financial overview of Tesla\" and \"Tesla\\'s market position\" to analyze revenue models, partnerships, and competitive standing.\\n\\nBy systematically applying these search terms and organizing the findings, you can create a coherent report that provides a deep insights into Tesla\\'s operations and impact.'}"
      ]
     },
     "execution_count": 8,
     "metadata": {},
     "output_type": "execute_result"
    }
   ],
   "source": [
    "\n",
    "agent_executor.invoke({\"input\": \"google\"})"
   ]
  }
 ],
 "metadata": {
  "kernelspec": {
   "display_name": ".venv",
   "language": "python",
   "name": "python3"
  },
  "language_info": {
   "codemirror_mode": {
    "name": "ipython",
    "version": 3
   },
   "file_extension": ".py",
   "mimetype": "text/x-python",
   "name": "python",
   "nbconvert_exporter": "python",
   "pygments_lexer": "ipython3",
   "version": "3.12.3"
  }
 },
 "nbformat": 4,
 "nbformat_minor": 5
}
