{
 "cells": [
  {
   "cell_type": "markdown",
   "metadata": {},
   "source": [
    "# Classic Chain"
   ]
  },
  {
   "cell_type": "markdown",
   "metadata": {},
   "source": [
    "### Load local model"
   ]
  },
  {
   "cell_type": "code",
   "execution_count": 23,
   "metadata": {},
   "outputs": [],
   "source": [
    "from langchain_openai import ChatOpenAI\n",
    "\n",
    "BASE_URL = \"http://localhost:1234/v1\"\n",
    "MODEL_NAME = \"meta-llama-3.1-8b-instruct\"\n",
    "\n",
    "\n",
    "model = ChatOpenAI(base_url=BASE_URL,api_key=\"xxx\",name=MODEL_NAME)"
   ]
  },
  {
   "cell_type": "markdown",
   "metadata": {},
   "source": [
    "### Create prompt"
   ]
  },
  {
   "cell_type": "code",
   "execution_count": 24,
   "metadata": {},
   "outputs": [],
   "source": [
    "from langchain.prompts import ChatPromptTemplate\n",
    "\n",
    "prompt_template = ChatPromptTemplate.from_messages(\n",
    "    [\n",
    "    (\"system\" , \"You are a comedian who tell jokes about {topic}\"),\n",
    "    (\"human\",\" tell me {joke_count} jokes\") \n",
    "    ]\n",
    ")"
   ]
  },
  {
   "cell_type": "markdown",
   "metadata": {},
   "source": [
    "### Create chain"
   ]
  },
  {
   "cell_type": "code",
   "execution_count": 25,
   "metadata": {},
   "outputs": [],
   "source": [
    "from langchain_core.output_parsers import StrOutputParser\n",
    "\n",
    "chain = prompt_template | model | StrOutputParser()"
   ]
  },
  {
   "cell_type": "markdown",
   "metadata": {},
   "source": [
    "### Call the chain"
   ]
  },
  {
   "cell_type": "code",
   "execution_count": 26,
   "metadata": {},
   "outputs": [
    {
     "name": "stdout",
     "output_type": "stream",
     "text": [
      "Here are three lawyer-themed jokes for you:\n",
      "\n",
      "1. Why did the lawyer's client bring a ladder to the courtroom? He wanted to take his case to a higher court! (get it?)\n",
      "2. What do you call a lawyer who doesn't know law? Me!\n",
      "3. Why did the lawyer become a baker? Because he kneaded the dough – but only after winning in court, of course!\n"
     ]
    }
   ],
   "source": [
    "result = chain.invoke({\"topic\" : \"lawyers\", \"joke_count\":3})\n",
    "print(result)"
   ]
  },
  {
   "cell_type": "markdown",
   "metadata": {},
   "source": [
    "# Under the hood"
   ]
  },
  {
   "cell_type": "code",
   "execution_count": null,
   "metadata": {},
   "outputs": [
    {
     "name": "stdout",
     "output_type": "stream",
     "text": [
      "Here are three lawyer-themed jokes for you:\n",
      "\n",
      "1. Why did the lawyer's client bring a ladder to the courtroom? He wanted to take his case to a higher court! (get it?)\n",
      "2. What do you call a lawyer who doesn't know law? Me!\n",
      "3. Why did the lawyer become a baker? Because he kneaded the dough – but only after winning in court, of course!\n"
     ]
    }
   ],
   "source": [
    "from langchain_core.runnables import RunnableLambda,RunnableSequence\n",
    "\n",
    "prompt_template = ChatPromptTemplate.from_messages(\n",
    "    [\n",
    "    (\"system\" , \"You are a comedian who tell jokes about {topic}\"),\n",
    "    (\"human\",\" tell me {joke_count} jokes\") \n",
    "    ]\n",
    ")\n",
    "\n",
    "format_prompt = RunnableLambda(lambda x:prompt_template.format_prompt(**x))\n",
    "invoke_model = RunnableLambda(lambda x: model.invoke(x.to_messages()))\n",
    "parse_output = RunnableLambda(lambda x : x.content)\n",
    "\n",
    "chain = RunnableSequence(first=format_prompt,middle=[invoke_model],last=parse_output)\n",
    "\n",
    "response = chain.invoke({\"topic\" : \"lawyers\", \"joke_count\":3})\n",
    "print(response)"
   ]
  }
 ],
 "metadata": {
  "kernelspec": {
   "display_name": ".venv",
   "language": "python",
   "name": "python3"
  },
  "language_info": {
   "codemirror_mode": {
    "name": "ipython",
    "version": 3
   },
   "file_extension": ".py",
   "mimetype": "text/x-python",
   "name": "python",
   "nbconvert_exporter": "python",
   "pygments_lexer": "ipython3",
   "version": "3.12.3"
  }
 },
 "nbformat": 4,
 "nbformat_minor": 2
}
