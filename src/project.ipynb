{
 "cells": [
  {
   "cell_type": "markdown",
   "metadata": {},
   "source": [
    "# Cover Letter Writer"
   ]
  },
  {
   "cell_type": "markdown",
   "metadata": {},
   "source": [
    "### Load model"
   ]
  },
  {
   "cell_type": "code",
   "execution_count": 20,
   "metadata": {},
   "outputs": [],
   "source": [
    "from langchain_openai import ChatOpenAI\n",
    "\n",
    "BASE_URL = \"http://localhost:1234/v1\"\n",
    "MODEL_NAME = \"meta-llama-3.1-8b-instruct\"\n",
    "\n",
    "\n",
    "model = ChatOpenAI(base_url=BASE_URL,api_key=\"xxx\",name=MODEL_NAME)"
   ]
  },
  {
   "cell_type": "markdown",
   "metadata": {},
   "source": [
    "### Search chain"
   ]
  },
  {
   "cell_type": "code",
   "execution_count": 21,
   "metadata": {},
   "outputs": [],
   "source": [
    "from langchain.prompts import ChatPromptTemplate\n",
    "\n",
    "messages = [\n",
    "    (\n",
    "        \"system\" , \"\"\"You're a research agent tasked with gathering information about a given company, \n",
    "        exploring its field of activity, its products or services, and its target market. Analyze the company's history, including \n",
    "        its creation date, founders and strategic evolution. Identifies the company's major projects, collaborationsand partnerships, \n",
    "        as well as any awards it has received. Finally, studies its HR policy, including talent management, corporate culture, recruitment \n",
    "        practicesand employee well-being initiatives. You have access to the Tavily search tool to help you in your research.\"\"\"\n",
    "     ),\n",
    "    (\"human\",\" Do thsi for the company: {company_name}\") ,\n",
    "    (\"placeholder\", \"{agent_scratchpad}\")\n",
    "]\n",
    "search_prompt_template = ChatPromptTemplate.from_messages(messages)"
   ]
  },
  {
   "cell_type": "code",
   "execution_count": null,
   "metadata": {},
   "outputs": [],
   "source": [
    "from langchain_community.tools.tavily_search import TavilySearchResults\n",
    "\n",
    "tavily_tool = TavilySearchResults(max_results=1)\n",
    "tools = [tavily_tool]"
   ]
  },
  {
   "cell_type": "code",
   "execution_count": 23,
   "metadata": {},
   "outputs": [],
   "source": [
    "from langchain.agents import AgentExecutor, create_openai_functions_agent\n",
    "\n",
    "agent = create_openai_functions_agent(model, tools, search_prompt_template)\n",
    "agent_executor = AgentExecutor(\n",
    "    agent=agent,\n",
    "    tools=tools,\n",
    "    verbose=False)"
   ]
  },
  {
   "cell_type": "code",
   "execution_count": null,
   "metadata": {},
   "outputs": [],
   "source": [
    "from langchain_core.runnables import RunnableLambda\n",
    "\n",
    "get_output = RunnableLambda(lambda x : x['output'])\n",
    "\n",
    "agent_chain = agent_executor | get_output"
   ]
  },
  {
   "cell_type": "code",
   "execution_count": 28,
   "metadata": {},
   "outputs": [],
   "source": [
    "result = agent_chain.invoke({\"company_name\": \"fieldbox.ai\"})"
   ]
  },
  {
   "cell_type": "code",
   "execution_count": 29,
   "metadata": {},
   "outputs": [
    {
     "data": {
      "text/plain": [
       "\"**Company Overview**\\n\\nFieldBox AI is a cutting-edge technology company that specializes in developing innovative artificial intelligence (AI) solutions for various industries.\\n\\n**History**\\n\\nBased on available information, FieldBox AI was founded in 2016 by a team of experienced professionals with a passion for AI and data science. The company's creation date could not be found using Tavily search tool but we found it to have been founded in the second half of 2016.\\n\\nThe founders of FieldBox AI have extensive experience in developing AI solutions, which has enabled them to create a robust and effective platform that caters to various industries.\\n\\n**Field of Activity**\\n\\nFieldBox AI operates in the field of Artificial Intelligence (AI) development, focusing on creating innovative solutions for businesses. Their primary goal is to help companies unlock new value from their data using advanced AI algorithms.\\n\\n**Products/Services**\\n\\nThe company offers a range of products and services, including:\\n\\n1. **Customized AI Solutions**: FieldBox AI provides tailored AI solutions that cater to the specific needs of each client.\\n2. **AI-Powered Data Analytics**: Their platform uses advanced machine learning algorithms to analyze large datasets and provide actionable insights for businesses.\\n3. **Predictive Maintenance**: The company's AI-powered predictive maintenance solution helps industries such as manufacturing, energy, and healthcare predict equipment failures and reduce downtime.\\n\\n**Target Market**\\n\\nFieldBox AI primarily targets industries that can benefit from the application of AI technology, including:\\n\\n1. **Manufacturing**: Their predictive maintenance solutions help manufacturers optimize their production processes and reduce costs.\\n2. **Energy**: The company's AI-powered data analytics helps energy companies predict energy demand and optimize their supply chains.\\n3. **Healthcare**: FieldBox AI provides customized AI solutions for healthcare institutions to improve patient outcomes and streamline clinical workflows.\\n\\n**Major Projects/Collaborations/Partnerships**\\n\\n1. **Collaboration with Research Institutions**: FieldBox AI has collaborated with leading research institutions to advance the development of AI technology.\\n2. **Partnership with Industry Leaders**: The company has partnered with industry leaders to integrate their AI solutions into various industries.\\n\\n**Awards and Recognition**\\n\\nWhile I couldn't find any awards or recognition for FieldBox AI, the founders have received recognition for their contributions to the field of AI.\\n\\n**HR Policy**\\n\\nFieldBox AI prioritizes talent management and corporate culture. Here are some key aspects of their HR policy:\\n\\n1. **Talent Management**: The company invests heavily in developing its employees' skills through continuous training programs and workshops.\\n2. **Corporate Culture**: FieldBox AI fosters a collaborative and innovative work environment, encouraging employees to share ideas and contribute to the development of new solutions.\\n3. **Recruitment Practices**: The company uses a rigorous recruitment process that includes multiple rounds of interviews and skills assessments to ensure that only the most qualified candidates are hired.\\n4. **Employee Well-being Initiatives**: FieldBox AI offers various employee well-being initiatives, including flexible work arrangements, mental health support, and regular team-building activities.\\n\\n**Conclusion**\\n\\nFieldBox AI is a pioneering technology company that specializes in developing innovative AI solutions for various industries. With its strong focus on talent management, corporate culture, and employee well-being, the company has established itself as a leader in the field of artificial intelligence.\""
      ]
     },
     "execution_count": 29,
     "metadata": {},
     "output_type": "execute_result"
    }
   ],
   "source": [
    "result"
   ]
  }
 ],
 "metadata": {
  "kernelspec": {
   "display_name": ".venv",
   "language": "python",
   "name": "python3"
  },
  "language_info": {
   "codemirror_mode": {
    "name": "ipython",
    "version": 3
   },
   "file_extension": ".py",
   "mimetype": "text/x-python",
   "name": "python",
   "nbconvert_exporter": "python",
   "pygments_lexer": "ipython3",
   "version": "3.12.3"
  }
 },
 "nbformat": 4,
 "nbformat_minor": 2
}
