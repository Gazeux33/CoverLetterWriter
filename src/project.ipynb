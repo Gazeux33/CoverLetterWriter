{
 "cells": [
  {
   "cell_type": "markdown",
   "metadata": {},
   "source": [
    "# Cover Letter Writer"
   ]
  },
  {
   "cell_type": "markdown",
   "metadata": {},
   "source": [
    "### Load model"
   ]
  },
  {
   "cell_type": "code",
   "execution_count": 49,
   "metadata": {},
   "outputs": [],
   "source": [
    "from langchain_openai import ChatOpenAI\n",
    "\n",
    "BASE_URL = \"http://localhost:1234/v1\"\n",
    "MODEL_NAME = \"meta-llama-3.1-8b-instruct\"\n",
    "\n",
    "\n",
    "model = ChatOpenAI(base_url=BASE_URL,api_key=\"xxx\",name=MODEL_NAME)"
   ]
  },
  {
   "cell_type": "markdown",
   "metadata": {},
   "source": [
    "### Research chain"
   ]
  },
  {
   "cell_type": "code",
   "execution_count": 50,
   "metadata": {},
   "outputs": [],
   "source": [
    "from langchain.prompts import ChatPromptTemplate\n",
    "\n",
    "messages = [\n",
    "    (\n",
    "        \"system\" , \"\"\"You're a research agent tasked with gathering information about a given company, \n",
    "        exploring its field of activity, its products or services, and its target market. Analyze the company's history, including \n",
    "        its creation date, founders and strategic evolution. Identifies the company's major projects, collaborationsand partnerships, \n",
    "        as well as any awards it has received. Finally, studies its HR policy, including talent management, corporate culture, recruitment \n",
    "        practicesand employee well-being initiatives. You have access to the Tavily search tool to help you in your research.\"\"\"\n",
    "     ),\n",
    "    (\"human\",\" Do this for the company: {company_name}\") ,\n",
    "    (\"placeholder\", \"{agent_scratchpad}\")\n",
    "]\n",
    "search_prompt_template = ChatPromptTemplate.from_messages(messages)"
   ]
  },
  {
   "cell_type": "code",
   "execution_count": 51,
   "metadata": {},
   "outputs": [],
   "source": [
    "from langchain_community.tools.tavily_search import TavilySearchResults\n",
    "\n",
    "tavily_tool = TavilySearchResults(max_results=10)\n",
    "tools = [tavily_tool]"
   ]
  },
  {
   "cell_type": "code",
   "execution_count": 52,
   "metadata": {},
   "outputs": [],
   "source": [
    "from langchain.agents import AgentExecutor, create_openai_functions_agent\n",
    "\n",
    "agent = create_openai_functions_agent(model, tools, search_prompt_template)\n",
    "agent_executor = AgentExecutor(\n",
    "    agent=agent,\n",
    "    tools=tools,\n",
    "    verbose=False)"
   ]
  },
  {
   "cell_type": "code",
   "execution_count": 53,
   "metadata": {},
   "outputs": [],
   "source": [
    "from langchain_core.runnables import RunnableLambda\n",
    "\n",
    "get_output = RunnableLambda(lambda x : x['output'])\n",
    "\n",
    "agent_chain = agent_executor | get_output"
   ]
  },
  {
   "cell_type": "code",
   "execution_count": 54,
   "metadata": {},
   "outputs": [],
   "source": [
    "#result = agent_chain.invoke({\"company_name\": \"fieldbox.ai\"})\n",
    "#print(result[:100])"
   ]
  },
  {
   "cell_type": "markdown",
   "metadata": {},
   "source": [
    "### Write chain"
   ]
  },
  {
   "cell_type": "code",
   "execution_count": 55,
   "metadata": {},
   "outputs": [],
   "source": [
    "messages = [\n",
    "    (\"system\",\"{prompt}\"),\n",
    "    (\"human\",\"\"\" \n",
    "     template : {template}\n",
    "     profil : {profil} \n",
    "     offer_data : {offer} \n",
    "     company_data : {company_data}\"\"\"),\n",
    "]\n",
    "write_prompt_template = ChatPromptTemplate.from_messages(messages)"
   ]
  },
  {
   "cell_type": "code",
   "execution_count": 56,
   "metadata": {},
   "outputs": [
    {
     "data": {
      "text/plain": [
       "(1151, 0, 3000)"
      ]
     },
     "execution_count": 56,
     "metadata": {},
     "output_type": "execute_result"
    }
   ],
   "source": [
    "from utils import load_json,load_txt\n",
    "import os\n",
    "\n",
    "DATA_DIR = \"../data/\"\n",
    "\n",
    "prompt = load_txt(os.path.join(DATA_DIR,\"promptV1.txt\"))\n",
    "offer = \"\"\n",
    "profil = load_json(os.path.join(DATA_DIR,\"profil.json\"))\n",
    "template = load_txt(os.path.join(DATA_DIR,\"templateBrut.txt\"))\n",
    "len(prompt),len(offer),len(profil)"
   ]
  },
  {
   "cell_type": "code",
   "execution_count": 57,
   "metadata": {},
   "outputs": [],
   "source": [
    "write_prompt_template = write_prompt_template.partial(prompt=prompt,offer=offer,profil=profil,template=template)"
   ]
  },
  {
   "cell_type": "code",
   "execution_count": 58,
   "metadata": {},
   "outputs": [],
   "source": [
    "from langchain_core.output_parsers import StrOutputParser\n",
    "\n",
    "write_chain = write_prompt_template | model | StrOutputParser()"
   ]
  },
  {
   "cell_type": "code",
   "execution_count": 59,
   "metadata": {},
   "outputs": [],
   "source": [
    "#result = write_chain.invoke({\"company_data\":\"no data\"})\n",
    "#print(result)"
   ]
  },
  {
   "cell_type": "markdown",
   "metadata": {},
   "source": [
    "### Final Chain"
   ]
  },
  {
   "cell_type": "code",
   "execution_count": 60,
   "metadata": {},
   "outputs": [],
   "source": [
    "final_chain = agent_chain | write_chain"
   ]
  },
  {
   "cell_type": "code",
   "execution_count": null,
   "metadata": {},
   "outputs": [],
   "source": [
    "result = final_chain.invoke({\"company_name\" : \"CapGemini\"})"
   ]
  },
  {
   "cell_type": "code",
   "execution_count": null,
   "metadata": {},
   "outputs": [
    {
     "name": "stdout",
     "output_type": "stream",
     "text": [
      "Objet : Candidature pour un poste de Développeur Python à Capgemini\n",
      "\n",
      "Madame, Monsieur,\n",
      "\n",
      "Je me permets de vous adresser ma candidature pour le poste de Développeur Python au sein de l'équipe de Capgemini. J'ai été particulièrement séduit par l'opportunité de rejoindre une entreprise qui combine expertise en IT consulting, stratégie et management, avec une approche innovante et audacieuse dans les domaines de la technologie et du numérique.\n",
      "\n",
      "En tant que diplômé de la deuxième année du Bachelor d'informatique à Gradignan, j'ai développé une solide base en programmation Python ainsi qu'une connaissance approfondie de technologies telles que TensorFlow, PyTorch, GitHub, VScode, Ubuntu et MacOs. Ma passion pour l'apprentissage automatique et le deep learning m'a conduit à développer plusieurs projets intéressants, tels que Large Language Model, Neural Networks Library, Neural Style Transfer, Generative Adversial Network, Cellular Automata 3D Renderer, TradeFormer, Diffusion Model, VAE, Maze Generator and Solver, Car Plates Detection, Snake AI et Connect4 AI.\n",
      "\n",
      "Je suis également convaincu que mon expérience dans la résolution de problèmes complexes et ma capacité à travailler en équipe seront précieuses pour votre équipe. J'ai déjà eu l'occasion de développer des applications web et mobiles avec Django, ainsi que de créer des bibliothèques personnalisées pour les calculs neuronaux.\n",
      "\n",
      "Je suis impressionné par la vision de Capgemini en matière d'inclusion numérique et de développement durable, comme le montre son engagement dans l'élaboration d'une stratégie de durabilité. Je partage également votre détermination à créer des solutions innovantes pour répondre aux besoins émergents des entreprises et des individus.\n",
      "\n",
      "Je vous remercie d'avoir pris le temps de lire ma candidature. J'ai hâte de discuter plus en profondeur avec vous de mon profil et de comment je peux contribuer au succès de Capgemini. Je joins à cette lettre une copie de mon CV et les détails de contact.\n",
      "\n",
      "Cordialement,\n",
      "\n",
      "Theo Castillo\n",
      "\n",
      "À noter : \n",
      "\n",
      "- Le candidat a choisi d'envoyer sa lettre de motivation en français.\n",
      "- Le style est professionnel mais engageant.\n",
      "- Les informations fournies sont pertinentes pour le poste visé, tel que mentionné dans l'exemple donné.\n"
     ]
    }
   ],
   "source": [
    "print(result)"
   ]
  }
 ],
 "metadata": {
  "kernelspec": {
   "display_name": ".venv",
   "language": "python",
   "name": "python3"
  },
  "language_info": {
   "codemirror_mode": {
    "name": "ipython",
    "version": 3
   },
   "file_extension": ".py",
   "mimetype": "text/x-python",
   "name": "python",
   "nbconvert_exporter": "python",
   "pygments_lexer": "ipython3",
   "version": "3.12.3"
  }
 },
 "nbformat": 4,
 "nbformat_minor": 2
}
